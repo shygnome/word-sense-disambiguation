{
 "cells": [
  {
   "cell_type": "markdown",
   "metadata": {},
   "source": [
    "# Word Sense Disambiguation\n",
    "Untuk tugas akhir mata kuliah NLP Semester Genap 2018/2019"
   ]
  },
  {
   "cell_type": "markdown",
   "metadata": {},
   "source": [
    "## Prediction (word-wise)\n",
    "\n",
    "_Notebook_ ini digunakan untuk membuat prediksi dari _testing set_. Prediksi dilakukan menggunakan model yang dibuat pada _notebook_ `Model-X.ipynb` dalam bentuk _pickle_ atau `Model-X.pkl`. Hasil prediksi akan ditulis ke dalam folder `predictions/` sesuai dengan format yang ditentukan.\n",
    "\n",
    "### Perbedaan dengan _Prediction.ipynb_:\n",
    "\n",
    "Prediksi yang dilakukan pada _notebook_ ini perlu melihat kata apa yang sedang dievaluasi terlebih dahulu. Setelah kata yang dievaluasi diketahui, prediksi dilakukan terhadap model yang bersesuaian dengan kata."
   ]
  },
  {
   "cell_type": "code",
   "execution_count": null,
   "metadata": {},
   "outputs": [],
   "source": []
  }
 ],
 "metadata": {
  "kernelspec": {
   "display_name": "Python 3",
   "language": "python",
   "name": "python3"
  },
  "language_info": {
   "codemirror_mode": {
    "name": "ipython",
    "version": 3
   },
   "file_extension": ".py",
   "mimetype": "text/x-python",
   "name": "python",
   "nbconvert_exporter": "python",
   "pygments_lexer": "ipython3",
   "version": "3.7.1"
  }
 },
 "nbformat": 4,
 "nbformat_minor": 2
}
